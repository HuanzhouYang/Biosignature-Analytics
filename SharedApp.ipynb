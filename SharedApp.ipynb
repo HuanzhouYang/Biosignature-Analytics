{
 "cells": [
  {
   "cell_type": "code",
   "execution_count": 14,
   "metadata": {},
   "outputs": [
    {
     "data": {
      "application/vnd.jupyter.widget-view+json": {
       "model_id": "e480eb78bace42f5a7bacab1a1068153",
       "version_major": 2,
       "version_minor": 0
      },
      "text/plain": [
       "FloatSlider(value=0.3, description='Alpha:', max=1.0, min=0.1)"
      ]
     },
     "metadata": {},
     "output_type": "display_data"
    },
    {
     "data": {
      "application/vnd.jupyter.widget-view+json": {
       "model_id": "2b3a64ff5a5b4807b07e2a375b81bfba",
       "version_major": 2,
       "version_minor": 0
      },
      "text/plain": [
       "FloatSlider(value=0.2, description='Tau2:', max=1.0, min=0.05)"
      ]
     },
     "metadata": {},
     "output_type": "display_data"
    },
    {
     "data": {
      "application/vnd.jupyter.widget-view+json": {
       "model_id": "a54f701b07254277a30afd77d6ac88c2",
       "version_major": 2,
       "version_minor": 0
      },
      "text/plain": [
       "FloatSlider(value=0.2, description='Tau3:', max=1.0, min=0.05)"
      ]
     },
     "metadata": {},
     "output_type": "display_data"
    },
    {
     "data": {
      "application/vnd.jupyter.widget-view+json": {
       "model_id": "58e89a43e9aa4726bbeaae597ac9a3a0",
       "version_major": 2,
       "version_minor": 0
      },
      "text/plain": [
       "SelectMultiple(description='r values:', index=(0, 1, 2, 3), options=(0.2, 0.4, 0.6, 0.8), value=(0.2, 0.4, 0.6…"
      ]
     },
     "metadata": {},
     "output_type": "display_data"
    },
    {
     "data": {
      "application/vnd.jupyter.widget-view+json": {
       "model_id": "0b990a0daff94fedb30887e51cb1efaa",
       "version_major": 2,
       "version_minor": 0
      },
      "text/plain": [
       "FloatLogSlider(value=1000.0, description='Width:', max=6.0, min=2.0, step=0.2)"
      ]
     },
     "metadata": {},
     "output_type": "display_data"
    },
    {
     "data": {
      "application/vnd.jupyter.widget-view+json": {
       "model_id": "9932702a57af4679a8501cba3e10fe77",
       "version_major": 2,
       "version_minor": 0
      },
      "text/plain": [
       "IntSlider(value=70, description='Height:')"
      ]
     },
     "metadata": {},
     "output_type": "display_data"
    },
    {
     "data": {
      "application/vnd.jupyter.widget-view+json": {
       "model_id": "fcf464a642474dcba46b49a6134ac71a",
       "version_major": 2,
       "version_minor": 0
      },
      "text/plain": [
       "interactive(children=(FloatSlider(value=0.3, description='Alpha:', max=1.0, min=0.1), FloatSlider(value=0.2, d…"
      ]
     },
     "metadata": {},
     "output_type": "display_data"
    }
   ],
   "source": [
    "import numpy as np\n",
    "import matplotlib.pyplot as plt\n",
    "import ipywidgets as widgets\n",
    "from ipywidgets import interactive\n",
    "from IPython.display import display\n",
    "\n",
    "# Function to perform calculations and generate the plot\n",
    "def plot_signals(alpha=0.3, tau2=0.2, tau3=0.2, r_values=(0.2, 0.4, 0.6, 0.8), width=1000, height=70):\n",
    "    z = np.linspace(1, 100, 100)\n",
    "    k3 = z.copy()\n",
    "    cdf3 = z.copy()\n",
    "    pdf3 = z.copy()\n",
    "\n",
    "    # Calculate pdf3 and cdf3, ensuring pdf3 is non-negative\n",
    "    for i in range(100):\n",
    "        pdf3[i] = max(1 - (i - height)**2 / width, 0)\n",
    "        cdf3[i] = np.sum(pdf3[:i + 1])\n",
    "\n",
    "    # Normalize cdf3 so that it reaches tau3 at the top\n",
    "    cdf3 = cdf3 / cdf3[-1] * tau3\n",
    "\n",
    "    # Calculate k3\n",
    "    for i in range(100):\n",
    "        k3[i] = cdf3[i] / z[i]\n",
    "\n",
    "    # Plot pdf3 vs z\n",
    "    plt.figure(figsize=(12, 8))\n",
    "    plt.subplot(2, 1, 1)\n",
    "    plt.plot(pdf3, z, label='pdf3 vs z', color='b')\n",
    "    plt.xlabel(\"Ozone Concentration PDF\")\n",
    "    plt.ylabel(\"Non-dimensional Geometric Height\")\n",
    "    plt.title(\"PDF of Ozone Concentration\")\n",
    "    plt.grid(True)\n",
    "    plt.legend()\n",
    "\n",
    "    # Plot k3 vs z\n",
    "    plt.subplot(2, 1, 2)\n",
    "\n",
    "    # Loop over different r values\n",
    "    for r in r_values:\n",
    "        z = np.linspace(0, 100, 100)\n",
    "        k2 = tau2 / 100\n",
    "\n",
    "        # Calculate sig_clear and sig_cloud\n",
    "        sig_clear = alpha * np.exp(-tau2) * (1 - np.exp(-tau3))\n",
    "        sig_cloud = (\n",
    "            r * np.exp(-(tau2 - k2 * z)) * (1 - np.exp(-(tau3 - k3 * z)))\n",
    "            + (1 - r)**2 * alpha * np.exp(-tau2)\n",
    "            * (1 / (1 - alpha * r * np.exp(-k2 * z)) - np.exp(-tau3) / (1 - alpha * r * np.exp(-(k3 + k2) * z)))\n",
    "        )\n",
    "\n",
    "        # Plot sig_cloud vs z\n",
    "        plt.plot(sig_cloud / sig_clear - 1, z, label=f'r = {r}')\n",
    "\n",
    "    # Add labels and title\n",
    "    plt.axvline(0, color='k', linestyle='--')\n",
    "    plt.title('Non-dimensional Parameter Test')\n",
    "    plt.xlabel('Signal Relative Difference')\n",
    "    plt.ylabel('Scaled z')\n",
    "    plt.legend()\n",
    "    plt.grid(True)\n",
    "    plt.tight_layout()\n",
    "    plt.show()\n",
    "\n",
    "# Create interactive widgets\n",
    "alpha_slider = widgets.FloatSlider(value=0.3, min=0.1, max=1.0, step=0.1, description='Alpha:')\n",
    "tau2_slider = widgets.FloatSlider(value=0.2, min=0.05, max=1.0, step=0.1, description='Tau2:')\n",
    "tau3_slider = widgets.FloatSlider(value=0.2, min=0.05, max=1.0, step=0.1, description='Tau3:')\n",
    "r_values_selector = widgets.SelectMultiple(\n",
    "    options=[0.2, 0.4, 0.6, 0.8],\n",
    "    value=[0.2, 0.4, 0.6, 0.8],\n",
    "    description='r values:',\n",
    "    disabled=False\n",
    ")\n",
    "width_slider = widgets.FloatLogSlider(value=1000, base=10, min=2, max=6, step=0.2, description='Width:')\n",
    "height_slider = widgets.IntSlider(value=70, min=0, max=100, step=1, description='Height:')\n",
    "\n",
    "# Create an interactive plot\n",
    "interactive_plot = interactive(plot_signals, alpha=alpha_slider, tau2=tau2_slider, tau3=tau3_slider, r_values=r_values_selector, width=width_slider, height=height_slider)\n",
    "\n",
    "# Display the interactive widgets and plot directly\n",
    "display(alpha_slider, tau2_slider, tau3_slider, r_values_selector, width_slider, height_slider, interactive_plot)"
   ]
  },
  {
   "cell_type": "code",
   "execution_count": null,
   "metadata": {},
   "outputs": [],
   "source": []
  }
 ],
 "metadata": {
  "kernelspec": {
   "display_name": "Python 3",
   "language": "python",
   "name": "python3"
  },
  "language_info": {
   "codemirror_mode": {
    "name": "ipython",
    "version": 3
   },
   "file_extension": ".py",
   "mimetype": "text/x-python",
   "name": "python",
   "nbconvert_exporter": "python",
   "pygments_lexer": "ipython3",
   "version": "3.8.3"
  }
 },
 "nbformat": 4,
 "nbformat_minor": 4
}
